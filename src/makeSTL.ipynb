{
 "cells": [
  {
   "cell_type": "code",
   "execution_count": 24,
   "metadata": {},
   "outputs": [],
   "source": [
    "import open3d as o3d\n",
    "import numpy as np\n",
    "import pandas as pd"
   ]
  },
  {
   "cell_type": "code",
   "execution_count": 40,
   "metadata": {},
   "outputs": [],
   "source": [
    "alps_xyz_pointcloud_path = \"../data/alps_xyz.csv\"\n",
    "\n",
    "df_alps_xyz = pd.read_csv(alps_xyz_pointcloud_path)\n",
    "\n",
    "maximas_2d = [df_alps_xyz[\"x\"].max(),\n",
    "              df_alps_xyz[\"y\"].max()]\n",
    "maximum_2d = np.max(maximas_2d)\n",
    "\n",
    "df_alps_xyz_normalized = pd.DataFrame()\n",
    "\n",
    "df_alps_xyz_normalized[\"x\"] = df_alps_xyz[\"x\"] / maximum_2d\n",
    "df_alps_xyz_normalized[\"y\"] = df_alps_xyz[\"y\"] / maximum_2d\n",
    "\n",
    "maximum_z = df_alps_xyz[\"z\"].max()\n",
    "df_alps_xyz_normalized[\"z\"] = df_alps_xyz[\"z\"] / maximum_z\n"
   ]
  },
  {
   "cell_type": "code",
   "execution_count": 41,
   "metadata": {},
   "outputs": [],
   "source": [
    "# rescale:\n",
    "scale_2d = 180 # mm\n",
    "scale_height = 20 # mm\n",
    "\n",
    "df_alps_xyz_normalized[\"x\"] = df_alps_xyz_normalized[\"x\"] * scale_2d\n",
    "df_alps_xyz_normalized[\"y\"] = df_alps_xyz_normalized[\"y\"] * scale_2d\n",
    "df_alps_xyz_normalized[\"z\"] = df_alps_xyz_normalized[\"z\"] * scale_height"
   ]
  },
  {
   "cell_type": "code",
   "execution_count": 45,
   "metadata": {},
   "outputs": [],
   "source": [
    "# alps_xyz = np.genfromtxt(alps_xyz_pointcloud_path, delimiter=\",\", skip_header=1, usecols=(1,2,3))\n",
    "alps_xyz = df_alps_xyz_normalized[[\"x\", \"y\", \"z\"]].values"
   ]
  },
  {
   "cell_type": "code",
   "execution_count": 49,
   "metadata": {},
   "outputs": [],
   "source": [
    "\n",
    "alps_pcd = o3d.geometry.PointCloud()\n",
    "alps_pcd.points = o3d.utility.Vector3dVector(alps_xyz)"
   ]
  },
  {
   "cell_type": "code",
   "execution_count": 57,
   "metadata": {},
   "outputs": [],
   "source": [
    "o3d.visualization.draw_geometries([alps_pcd])"
   ]
  },
  {
   "cell_type": "code",
   "execution_count": 56,
   "metadata": {},
   "outputs": [
    {
     "ename": "RuntimeError",
     "evalue": "[Open3D Error] (class std::shared_ptr<class open3d::geometry::TriangleMesh> __cdecl open3d::geometry::BallPivoting::Run(const class std::vector<double,class std::allocator<double> > &)) D:\\a\\Open3D\\Open3D\\cpp\\open3d\\geometry\\SurfaceReconstructionBallPivoting.cpp:658: ReconstructBallPivoting requires normals\n",
     "output_type": "error",
     "traceback": [
      "\u001b[1;31m---------------------------------------------------------------------------\u001b[0m",
      "\u001b[1;31mRuntimeError\u001b[0m                              Traceback (most recent call last)",
      "Cell \u001b[1;32mIn[56], line 2\u001b[0m\n\u001b[0;32m      1\u001b[0m alpha \u001b[38;5;241m=\u001b[39m \u001b[38;5;241m0.03\u001b[39m\n\u001b[1;32m----> 2\u001b[0m alps_mesh \u001b[38;5;241m=\u001b[39m \u001b[43mo3d\u001b[49m\u001b[38;5;241;43m.\u001b[39;49m\u001b[43mgeometry\u001b[49m\u001b[38;5;241;43m.\u001b[39;49m\u001b[43mTriangleMesh\u001b[49m\u001b[38;5;241;43m.\u001b[39;49m\u001b[43mcreate_from_point_cloud_ball_pivoting\u001b[49m\u001b[43m(\u001b[49m\u001b[43malps_pcd\u001b[49m\u001b[43m,\u001b[49m\u001b[43m \u001b[49m\u001b[43mo3d\u001b[49m\u001b[38;5;241;43m.\u001b[39;49m\u001b[43mcpu\u001b[49m\u001b[38;5;241;43m.\u001b[39;49m\u001b[43mpybind\u001b[49m\u001b[38;5;241;43m.\u001b[39;49m\u001b[43mutility\u001b[49m\u001b[38;5;241;43m.\u001b[39;49m\u001b[43mDoubleVector\u001b[49m\u001b[43m(\u001b[49m\u001b[43m[\u001b[49m\u001b[38;5;241;43m0.3\u001b[39;49m\u001b[43m]\u001b[49m\u001b[43m)\u001b[49m\u001b[43m)\u001b[49m\n\u001b[0;32m      3\u001b[0m alps_mesh\u001b[38;5;241m.\u001b[39mcompute_vertex_normals()\n\u001b[0;32m      4\u001b[0m o3d\u001b[38;5;241m.\u001b[39mvisualization\u001b[38;5;241m.\u001b[39mdraw_geometries([alps_mesh], mesh_show_back_face\u001b[38;5;241m=\u001b[39m\u001b[38;5;28;01mTrue\u001b[39;00m)\n",
      "\u001b[1;31mRuntimeError\u001b[0m: [Open3D Error] (class std::shared_ptr<class open3d::geometry::TriangleMesh> __cdecl open3d::geometry::BallPivoting::Run(const class std::vector<double,class std::allocator<double> > &)) D:\\a\\Open3D\\Open3D\\cpp\\open3d\\geometry\\SurfaceReconstructionBallPivoting.cpp:658: ReconstructBallPivoting requires normals\n"
     ]
    }
   ],
   "source": [
    "alpha = 0.03\n",
    "alps_mesh = o3d.geometry.TriangleMesh.create_from_point_cloud_ball_pivoting(alps_pcd, o3d.cpu.pybind.utility.DoubleVector([0.3]))\n",
    "alps_mesh.compute_vertex_normals()\n",
    "o3d.visualization.draw_geometries([alps_mesh], mesh_show_back_face=True)"
   ]
  }
 ],
 "metadata": {
  "kernelspec": {
   "display_name": "alps-height-map",
   "language": "python",
   "name": "python3"
  },
  "language_info": {
   "codemirror_mode": {
    "name": "ipython",
    "version": 3
   },
   "file_extension": ".py",
   "mimetype": "text/x-python",
   "name": "python",
   "nbconvert_exporter": "python",
   "pygments_lexer": "ipython3",
   "version": "3.10.13"
  }
 },
 "nbformat": 4,
 "nbformat_minor": 2
}
