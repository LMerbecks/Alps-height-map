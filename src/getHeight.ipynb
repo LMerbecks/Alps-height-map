{
 "cells": [
  {
   "cell_type": "code",
   "execution_count": 2,
   "metadata": {},
   "outputs": [],
   "source": [
    "import json\n",
    "import requests\n",
    "import geopandas as gpd\n",
    "import pandas as pd\n",
    "import numpy as np\n"
   ]
  },
  {
   "cell_type": "code",
   "execution_count": 3,
   "metadata": {},
   "outputs": [
    {
     "data": {
      "text/html": [
       "<div>\n",
       "<style scoped>\n",
       "    .dataframe tbody tr th:only-of-type {\n",
       "        vertical-align: middle;\n",
       "    }\n",
       "\n",
       "    .dataframe tbody tr th {\n",
       "        vertical-align: top;\n",
       "    }\n",
       "\n",
       "    .dataframe thead th {\n",
       "        text-align: right;\n",
       "    }\n",
       "</style>\n",
       "<table border=\"1\" class=\"dataframe\">\n",
       "  <thead>\n",
       "    <tr style=\"text-align: right;\">\n",
       "      <th></th>\n",
       "      <th>h3_index</th>\n",
       "      <th>geometry</th>\n",
       "    </tr>\n",
       "  </thead>\n",
       "  <tbody>\n",
       "    <tr>\n",
       "      <th>0</th>\n",
       "      <td>8652e30afffffff</td>\n",
       "      <td>POLYGON ((13.96448 46.18568, 13.93593 46.16839...</td>\n",
       "    </tr>\n",
       "    <tr>\n",
       "      <th>1</th>\n",
       "      <td>8652c586fffffff</td>\n",
       "      <td>POLYGON ((13.49979 46.73466, 13.47146 46.71742...</td>\n",
       "    </tr>\n",
       "    <tr>\n",
       "      <th>2</th>\n",
       "      <td>867a89a0fffffff</td>\n",
       "      <td>POLYGON ((6.92909 44.93515, 6.95760 44.94530, ...</td>\n",
       "    </tr>\n",
       "    <tr>\n",
       "      <th>3</th>\n",
       "      <td>8652ec54fffffff</td>\n",
       "      <td>POLYGON ((14.59205 47.74191, 14.56381 47.72446...</td>\n",
       "    </tr>\n",
       "    <tr>\n",
       "      <th>4</th>\n",
       "      <td>8652c8d9fffffff</td>\n",
       "      <td>POLYGON ((11.26202 47.58858, 11.23437 47.57167...</td>\n",
       "    </tr>\n",
       "  </tbody>\n",
       "</table>\n",
       "</div>"
      ],
      "text/plain": [
       "          h3_index                                           geometry\n",
       "0  8652e30afffffff  POLYGON ((13.96448 46.18568, 13.93593 46.16839...\n",
       "1  8652c586fffffff  POLYGON ((13.49979 46.73466, 13.47146 46.71742...\n",
       "2  867a89a0fffffff  POLYGON ((6.92909 44.93515, 6.95760 44.94530, ...\n",
       "3  8652ec54fffffff  POLYGON ((14.59205 47.74191, 14.56381 47.72446...\n",
       "4  8652c8d9fffffff  POLYGON ((11.26202 47.58858, 11.23437 47.57167..."
      ]
     },
     "execution_count": 3,
     "metadata": {},
     "output_type": "execute_result"
    }
   ],
   "source": [
    "alps_h3_geojson_filename = '../data/alps_h3.geojson'\n",
    "gdf_alps_h3 = gpd.read_file(alps_h3_geojson_filename)\n",
    "gdf_alps_h3.head()"
   ]
  },
  {
   "cell_type": "code",
   "execution_count": 4,
   "metadata": {},
   "outputs": [
    {
     "name": "stderr",
     "output_type": "stream",
     "text": [
      "C:\\Users\\lelem\\AppData\\Local\\Temp\\ipykernel_30724\\1942489497.py:2: UserWarning: Geometry is in a geographic CRS. Results from 'centroid' are likely incorrect. Use 'GeoSeries.to_crs()' to re-project geometries to a projected CRS before this operation.\n",
      "\n",
      "  gdf_alps_h3_centroids[\"geometry\"] = gdf_alps_h3.geometry.centroid\n"
     ]
    }
   ],
   "source": [
    "gdf_alps_h3_centroids = gdf_alps_h3.copy()\n",
    "gdf_alps_h3_centroids[\"geometry\"] = gdf_alps_h3.geometry.centroid"
   ]
  },
  {
   "cell_type": "code",
   "execution_count": 5,
   "metadata": {},
   "outputs": [
    {
     "data": {
      "text/plain": [
       "(array('d', [13.937680838543164]), array('d', [46.20040412338545]))"
      ]
     },
     "execution_count": 5,
     "metadata": {},
     "output_type": "execute_result"
    }
   ],
   "source": [
    "gdf_alps_h3_centroids.loc[0, \"geometry\"].xy\n"
   ]
  },
  {
   "cell_type": "code",
   "execution_count": 7,
   "metadata": {},
   "outputs": [],
   "source": [
    "base_url = \"https://api.open-elevation.com/api/v1/lookup\"\n",
    "for centroid in gdf_alps_h3_centroids.loc[:100,\"geometry\"]:\n",
    "    latitude = centroid.y\n",
    "    longitude = centroid.x\n",
    "\n",
    "\n"
   ]
  },
  {
   "cell_type": "code",
   "execution_count": null,
   "metadata": {},
   "outputs": [
    {
     "data": {
      "text/plain": [
       "{'results': [{'latitude': 46.200404,\n",
       "   'longitude': 13.937681,\n",
       "   'elevation': 638.0},\n",
       "  {'elevation': 1656.0, 'longitude': 13.473225, 'latitude': 46.749071},\n",
       "  {'latitude': 44.913715, 'longitude': 6.954384, 'elevation': 2671.0},\n",
       "  {'latitude': 47.756017, 'longitude': 14.565213, 'elevation': 1448.0},\n",
       "  {'elevation': 1396.0, 'longitude': 11.236454, 'latitude': 47.602312},\n",
       "  {'elevation': 1168.0, 'longitude': 7.062785, 'latitude': 43.820872},\n",
       "  {'elevation': 2432.0, 'longitude': 6.643245, 'latitude': 44.833521},\n",
       "  {'elevation': 1165.0, 'longitude': 10.19459, 'latitude': 47.404308},\n",
       "  {'latitude': 46.974839, 'longitude': 8.874552, 'elevation': 1838.0},\n",
       "  {'latitude': 45.865696, 'longitude': 7.675873, 'elevation': 2768.0},\n",
       "  {'latitude': 47.773507, 'longitude': 13.31091, 'elevation': 789.0}]}"
      ]
     },
     "execution_count": 35,
     "metadata": {},
     "output_type": "execute_result"
    }
   ],
   "source": [
    "open_elevation_result = requests.post(querrystring)\n",
    "open_elevation_result.json()"
   ]
  },
  {
   "cell_type": "code",
   "execution_count": 11,
   "metadata": {},
   "outputs": [
    {
     "data": {
      "text/plain": [
       "{'results': [{'elevation': 515.0, 'longitude': 10.0, 'latitude': 10.0},\n",
       "  {'latitude': 20.0, 'longitude': 20.0, 'elevation': 545.0},\n",
       "  {'elevation': 638.0, 'longitude': 13.937681, 'latitude': 46.200404},\n",
       "  {'elevation': 1656.0, 'longitude': 13.473225, 'latitude': 46.749071},\n",
       "  {'latitude': 44.913715, 'longitude': 6.954384, 'elevation': 2671.0},\n",
       "  {'latitude': 47.756017, 'longitude': 14.565213, 'elevation': 1448.0},\n",
       "  {'latitude': 47.602312, 'longitude': 11.236454, 'elevation': 1396.0},\n",
       "  {'latitude': 43.820872, 'longitude': 7.062785, 'elevation': 1168.0},\n",
       "  {'elevation': 2432.0, 'longitude': 6.643245, 'latitude': 44.833521},\n",
       "  {'elevation': 1165.0, 'longitude': 10.19459, 'latitude': 47.404308},\n",
       "  {'elevation': 1838.0, 'longitude': 8.874552, 'latitude': 46.974839},\n",
       "  {'elevation': 2768.0, 'longitude': 7.675873, 'latitude': 45.865696},\n",
       "  {'elevation': 789.0, 'longitude': 13.31091, 'latitude': 47.773507},\n",
       "  {'elevation': 1691.0, 'longitude': 11.577742, 'latitude': 46.744996},\n",
       "  {'elevation': 790.0, 'longitude': 5.968903, 'latitude': 45.265554},\n",
       "  {'elevation': 511.0, 'longitude': 16.305639, 'latitude': 47.622425},\n",
       "  {'latitude': 44.360208, 'longitude': 7.282663, 'elevation': 1804.0},\n",
       "  {'latitude': 45.797619, 'longitude': 11.296269, 'elevation': 550.0},\n",
       "  {'latitude': 46.821324, 'longitude': 11.262304, 'elevation': 1125.0},\n",
       "  {'latitude': 47.686465, 'longitude': 13.414834, 'elevation': 1209.0},\n",
       "  {'latitude': 44.278648, 'longitude': 6.029647, 'elevation': 661.0},\n",
       "  {'latitude': 46.946086, 'longitude': 8.792606, 'elevation': 1773.0},\n",
       "  {'latitude': 47.953958, 'longitude': 16.232654, 'elevation': 250.0},\n",
       "  {'latitude': 45.003374, 'longitude': 5.829352, 'elevation': 2084.0},\n",
       "  {'latitude': 47.599143, 'longitude': 15.109589, 'elevation': 1632.0},\n",
       "  {'latitude': 45.371339, 'longitude': 6.616177, 'elevation': 2527.0},\n",
       "  {'latitude': 46.65937, 'longitude': 15.459157, 'elevation': 398.0},\n",
       "  {'latitude': 44.534709, 'longitude': 5.973691, 'elevation': 1022.0},\n",
       "  {'latitude': 46.983845, 'longitude': 10.84853, 'elevation': 2292.0},\n",
       "  {'latitude': 47.364537, 'longitude': 11.087584, 'elevation': 1255.0},\n",
       "  {'latitude': 47.801355, 'longitude': 16.088379, 'elevation': 421.0},\n",
       "  {'latitude': 47.480085, 'longitude': 9.938932, 'elevation': 701.0},\n",
       "  {'elevation': 489.0, 'longitude': 15.59088, 'latitude': 47.14844},\n",
       "  {'elevation': 356.0, 'longitude': 11.850271, 'latitude': 46.009958},\n",
       "  {'elevation': 849.0, 'longitude': 5.457671, 'latitude': 45.178122},\n",
       "  {'elevation': 765.0, 'longitude': 7.17071, 'latitude': 43.7986},\n",
       "  {'elevation': 2542.0, 'longitude': 12.784867, 'latitude': 47.089081},\n",
       "  {'elevation': 1446.0, 'longitude': 14.168679, 'latitude': 46.927867},\n",
       "  {'elevation': 1817.0, 'longitude': 14.662027, 'latitude': 46.858578},\n",
       "  {'elevation': 1098.0, 'longitude': 10.148189, 'latitude': 45.79481},\n",
       "  {'elevation': 2717.0, 'longitude': 6.765295, 'latitude': 45.484433},\n",
       "  {'elevation': 1443.0, 'longitude': 7.724062, 'latitude': 44.12245},\n",
       "  {'elevation': 724.0, 'longitude': 6.20498, 'latitude': 44.095579},\n",
       "  {'elevation': 1028.0, 'longitude': 12.044012, 'latitude': 47.742731},\n",
       "  {'elevation': 739.0, 'longitude': 14.874492, 'latitude': 47.91674},\n",
       "  {'elevation': 2571.0, 'longitude': 9.5908, 'latitude': 46.396294},\n",
       "  {'elevation': 2066.0, 'longitude': 6.882329, 'latitude': 45.555881},\n",
       "  {'elevation': 1128.0, 'longitude': 13.623341, 'latitude': 46.993495},\n",
       "  {'elevation': 2255.0, 'longitude': 11.713795, 'latitude': 46.378859},\n",
       "  {'elevation': 926.0, 'longitude': 15.512509, 'latitude': 48.004081},\n",
       "  {'elevation': 1276.0, 'longitude': 7.27016, 'latitude': 44.508456},\n",
       "  {'elevation': 1498.0, 'longitude': 14.063716, 'latitude': 46.493483},\n",
       "  {'elevation': 1449.0, 'longitude': 9.041194, 'latitude': 46.140211},\n",
       "  {'elevation': 423.0, 'longitude': 15.423481, 'latitude': 47.1392},\n",
       "  {'elevation': 1124.0, 'longitude': 6.249176, 'latitude': 43.988444},\n",
       "  {'elevation': 2685.0, 'longitude': 10.024195, 'latitude': 46.893815},\n",
       "  {'elevation': 926.0, 'longitude': 14.309085, 'latitude': 46.982945},\n",
       "  {'elevation': 595.0, 'longitude': 15.976783, 'latitude': 47.794526},\n",
       "  {'elevation': 584.0, 'longitude': 6.225956, 'latitude': 45.598299},\n",
       "  {'elevation': 722.0, 'longitude': 15.007893, 'latitude': 46.540183},\n",
       "  {'elevation': 738.0, 'longitude': 12.349766, 'latitude': 47.483725},\n",
       "  {'elevation': 1937.0, 'longitude': 10.259788, 'latitude': 46.539293},\n",
       "  {'elevation': 2268.0, 'longitude': 12.790384, 'latitude': 47.182949},\n",
       "  {'elevation': 1143.0, 'longitude': 11.200414, 'latitude': 47.462766},\n",
       "  {'latitude': 46.25991, 'longitude': 13.171527, 'elevation': 524.0},\n",
       "  {'latitude': 47.546143, 'longitude': 15.828825, 'elevation': 1324.0},\n",
       "  {'latitude': 46.480261, 'longitude': 12.829908, 'elevation': 923.0},\n",
       "  {'latitude': 46.582002, 'longitude': 11.111994, 'elevation': 1532.0},\n",
       "  {'latitude': 45.986471, 'longitude': 8.441223, 'elevation': 1071.0},\n",
       "  {'latitude': 47.696312, 'longitude': 13.578399, 'elevation': 1038.0},\n",
       "  {'latitude': 44.416567, 'longitude': 6.072393, 'elevation': 1302.0},\n",
       "  {'latitude': 46.239255, 'longitude': 11.731143, 'elevation': 2039.0},\n",
       "  {'latitude': 43.8477, 'longitude': 6.456667, 'elevation': 1404.0},\n",
       "  {'latitude': 45.997798, 'longitude': 7.281451, 'elevation': 2710.0},\n",
       "  {'latitude': 46.120789, 'longitude': 7.375017, 'elevation': 2207.0},\n",
       "  {'latitude': 45.641572, 'longitude': 7.382627, 'elevation': 2432.0},\n",
       "  {'latitude': 47.32712, 'longitude': 12.04478, 'elevation': 1963.0},\n",
       "  {'latitude': 46.126875, 'longitude': 8.667633, 'elevation': 1489.0},\n",
       "  {'latitude': 44.399552, 'longitude': 6.625693, 'elevation': 1252.0},\n",
       "  {'latitude': 46.488612, 'longitude': 12.044456, 'elevation': 2208.0},\n",
       "  {'latitude': 44.95012, 'longitude': 5.851443, 'elevation': 1452.0},\n",
       "  {'latitude': 45.944008, 'longitude': 13.564862, 'elevation': 63.0},\n",
       "  {'latitude': 47.158597, 'longitude': 13.195988, 'elevation': 2110.0},\n",
       "  {'latitude': 46.7238, 'longitude': 10.274039, 'elevation': 2526.0},\n",
       "  {'latitude': 47.225527, 'longitude': 13.553778, 'elevation': 2146.0},\n",
       "  {'latitude': 47.018772, 'longitude': 14.974024, 'elevation': 964.0},\n",
       "  {'latitude': 46.216105, 'longitude': 13.251088, 'elevation': 280.0},\n",
       "  {'latitude': 44.794963, 'longitude': 6.362713, 'elevation': 2152.0},\n",
       "  {'latitude': 44.181534, 'longitude': 8.137946, 'elevation': 730.0},\n",
       "  {'latitude': 47.808599, 'longitude': 13.123275, 'elevation': 881.0},\n",
       "  {'latitude': 47.520566, 'longitude': 14.582185, 'elevation': 1642.0},\n",
       "  {'latitude': 44.159273, 'longitude': 8.244249, 'elevation': 335.0},\n",
       "  {'latitude': 47.754837, 'longitude': 13.7719, 'elevation': 685.0},\n",
       "  {'latitude': 45.053028, 'longitude': 6.057252, 'elevation': 1208.0},\n",
       "  {'latitude': 46.935013, 'longitude': 12.532028, 'elevation': 1838.0},\n",
       "  {'latitude': 44.630206, 'longitude': 5.984006, 'elevation': 1216.0},\n",
       "  {'latitude': 46.848214, 'longitude': 8.598208, 'elevation': 1530.0},\n",
       "  {'latitude': 45.284397, 'longitude': 6.799822, 'elevation': 1682.0},\n",
       "  {'latitude': 47.081965, 'longitude': 10.961618, 'elevation': 1159.0},\n",
       "  {'latitude': 45.231565, 'longitude': 7.505839, 'elevation': 473.0},\n",
       "  {'latitude': 47.41382, 'longitude': 11.943126, 'elevation': 1593.0},\n",
       "  {'latitude': 46.528626, 'longitude': 9.62791, 'elevation': 1762.0},\n",
       "  {'latitude': 46.330634, 'longitude': 11.683589, 'elevation': 1873.0}]}"
      ]
     },
     "execution_count": 11,
     "metadata": {},
     "output_type": "execute_result"
    }
   ],
   "source": [
    "base_url = \"https://api.open-elevation.com/api/v1/lookup\"\n",
    "params = {\n",
    "    \"locations\": []\n",
    "    }\n",
    "\n",
    "for centroid in gdf_alps_h3_centroids.loc[:100,\"geometry\"]:\n",
    "    latitude = centroid.y\n",
    "    longitude = centroid.x\n",
    "    appendix = {\"longitude\": longitude,\n",
    "                \"latitude\": latitude}\n",
    "    params[\"locations\"].append(appendix)\n",
    "\n",
    "\n",
    "response = requests.post(base_url, json=params)\n",
    "\n",
    "response.json()"
   ]
  }
 ],
 "metadata": {
  "kernelspec": {
   "display_name": "alps-height-map",
   "language": "python",
   "name": "python3"
  },
  "language_info": {
   "codemirror_mode": {
    "name": "ipython",
    "version": 3
   },
   "file_extension": ".py",
   "mimetype": "text/x-python",
   "name": "python",
   "nbconvert_exporter": "python",
   "pygments_lexer": "ipython3",
   "version": "3.10.13"
  }
 },
 "nbformat": 4,
 "nbformat_minor": 2
}
